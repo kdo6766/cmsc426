{
 "cells": [
  {
   "cell_type": "code",
   "execution_count": null,
   "metadata": {},
   "outputs": [],
   "source": [
    "import os \n",
    "from os import listdir \n",
    "from os.path import isfile, join\n",
    "import numpy as np \n",
    "%matplotlib inline \n",
    "from matplotlib import pyplot as plt\n",
    "import matplotlib.image as img\n",
    "\n",
    "matrix = []\n",
    "\n",
    "for filename in os.listdir('Train1'):\n",
    "    face = img.imread((os.path.join('Train1',filename)))\n",
    "    img2 = np.array(face).flatten()\n",
    "    matrix.append(img2)\n",
    "    \n",
    "# image = img.imread('/Users/Kevin/cmsc426/StarterFiles/Test1/00001fb010.930831.jpg') ## Load an image as numpy array\n",
    "# plt.imshow(image, interpolation='nearest') #display the image \n",
    "# plt.gray()  #grayscale conversion\n",
    "# plt.show()\n",
    "\n",
    "# img2 = image.flatten()\n",
    "\n"
   ]
  },
  {
   "cell_type": "code",
   "execution_count": null,
   "metadata": {},
   "outputs": [],
   "source": [
    "# read the first 10 rows and columns of the image\n",
    "matrix"
   ]
  },
  {
   "cell_type": "code",
   "execution_count": null,
   "metadata": {},
   "outputs": [],
   "source": [
    "image[5,1]"
   ]
  },
  {
   "cell_type": "code",
   "execution_count": null,
   "metadata": {},
   "outputs": [],
   "source": [
    "faces_matrix = np.vstack(matrix)\n",
    "faces_matrix\n",
    "faces_matrix.shape"
   ]
  },
  {
   "cell_type": "code",
   "execution_count": null,
   "metadata": {},
   "outputs": [],
   "source": [
    "mean_face = np.mean(faces_matrix, axis=0)\n",
    "mean_face.shape\n"
   ]
  },
  {
   "cell_type": "code",
   "execution_count": null,
   "metadata": {},
   "outputs": [],
   "source": [
    "plt.imshow(mean_face.reshape(150,130),interpolation='nearest'); \n",
    "plt.title('Mean Face')\n",
    "\n",
    "### normalization\n",
    "faces_norm = faces_matrix - mean_face\n",
    "faces_norm.shape"
   ]
  },
  {
   "cell_type": "code",
   "execution_count": null,
   "metadata": {},
   "outputs": [],
   "source": [
    "face_cov = np.cov(faces_norm.T) #np.cov expects features as rows and observations as columns, so transposed\n",
    "face_cov.shape"
   ]
  },
  {
   "cell_type": "code",
   "execution_count": null,
   "metadata": {},
   "outputs": [],
   "source": [
    "eigen_vecs, eigen_vals, _ = np.linalg.svd(face_cov)\n",
    "eigen_vecs.shape"
   ]
  },
  {
   "cell_type": "code",
   "execution_count": null,
   "metadata": {},
   "outputs": [],
   "source": [
    "fig, axs = plt.subplots(1,3,figsize=(15,5))\n",
    "for i in np.arange(10):\n",
    "    ax = plt.subplot(2,5,i+1)\n",
    "    img = eigen_vecs[:,i].reshape(13,10)\n",
    "    plt.imshow(img, cmap='gray')\n",
    "fig.suptitle(\"First 10 Eigenfaces\", fontsize=16)"
   ]
  },
  {
   "cell_type": "code",
   "execution_count": null,
   "metadata": {},
   "outputs": [],
   "source": [
    "fig, axs = plt.subplots(2,5,figsize=(15,6))\n",
    "for k, i in zip([0,1,9,19,39,79,159,199,399,799],np.arange(10)):\n",
    "    # Reconstruct the first picture '1a.jpg' whose index is 0.\n",
    "    weight = faces_norm[0,:].dot(eigen_vecs[:,:k]) # Get PC scores of the images\n",
    "    projected_face = weight.dot(eigen_vecs[:,:k].T) # Reconstruct first face in dataset using k PCs\n",
    "    ax = plt.subplot(2,5,i+1)\n",
    "    ax.set_title(\"k = \"+str(k+1))\n",
    "    plt.imshow(projected_face.reshape(13,10)+mean_face.reshape(13,10),cmap='gray');\n",
    "fig.suptitle((\"Reconstruction with Increasing Eigenfaces\"), fontsize=16);"
   ]
  },
  {
   "cell_type": "code",
   "execution_count": null,
   "metadata": {},
   "outputs": [],
   "source": []
  }
 ],
 "metadata": {
  "kernelspec": {
   "display_name": "Python 3",
   "language": "python",
   "name": "python3"
  },
  "language_info": {
   "codemirror_mode": {
    "name": "ipython",
    "version": 3
   },
   "file_extension": ".py",
   "mimetype": "text/x-python",
   "name": "python",
   "nbconvert_exporter": "python",
   "pygments_lexer": "ipython3",
   "version": "3.8.5"
  }
 },
 "nbformat": 4,
 "nbformat_minor": 2
}
